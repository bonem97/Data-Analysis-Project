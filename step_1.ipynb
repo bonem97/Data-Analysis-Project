{
 "cells": [
  {
   "cell_type": "code",
   "execution_count": 1,
   "metadata": {},
   "outputs": [],
   "source": [
    "import pandas as pd\n",
    "from pprint import pprint\n",
    "import matplotlib.pyplot as plt\n",
    "\n",
    "import numpy as np\n",
    "import requests\n",
    "import gmaps\n",
    "import os\n",
    "import time\n",
    "from scipy.stats import linregress\n",
    "import json\n",
    "\n",
    "from api_keys import g_key\n",
    "\n",
    "input_data_file = \"Cities.csv\"\n",
    "\n",
    "#11/2012 - 9/"
   ]
  },
  {
   "cell_type": "code",
   "execution_count": 2,
   "metadata": {},
   "outputs": [],
   "source": [
    "def format_func(name):\n",
    "    convert = name[['RegionName','2012-11','2012-12','2013-01','2013-02','2013-03','2013-04','2013-05','2013-06','2013-07','2013-08','2013-09','2016-11','2016-12','2017-01','2017-02', '2017-03','2017-04','2017-05','2017-06','2017-07','2017-08','2017-09']]\n",
    "    index_convert = convert.set_index('RegionName')\n",
    "    # code below will be used to adjust for inflation according to the yearly rates. Ideally will be replaced with CPI function\n",
    "    #name['RegionName','2012-11','2012-12'] = (name[['RegionName','2012-11','2012-12']]*.02)\n",
    "    #name['2013-01','2013-02','2013-03','2013-04','2013-05','2013-06','2013-07','2013-08','2013-09','2013-10','2013-11'] = name[['2013-01','2013-02','2013-03','2013-04','2013-05','2013-06','2013-07','2013-08','2013-09','2013-10','2013-11']]\n",
    "    #name['2016-11','2016-12'] = name[['2016-11','2016-12']\n",
    "    #name['2017-01','2017-02','2017-02','2017-03','2017-04','2017-05','2017-06','2017-07','2017-08','2017-09'] = [['2017-01','2017-02','2017-02','2017-03','2017-04','2017-05','2017-06','2017-07','2017-08','2017-09']]\n",
    "    #name.to_csv()\n",
    "    return index_convert\n"
   ]
  },
  {
   "cell_type": "code",
   "execution_count": 3,
   "metadata": {
    "scrolled": true
   },
   "outputs": [],
   "source": [
    "state_median_listing_price_df = pd.DataFrame(pd.read_csv('https://query.data.world/s/dnbvyqky22ypxgwpobxmtxrzabna4l'))\n",
    "state_median_listing_price_df = format_func(state_median_listing_price_df)\n",
    "state_median_listing_price_df\n",
    "state_median_listing_price_df.to_csv('state_median_listing_price.csv', header=True)"
   ]
  },
  {
   "cell_type": "code",
   "execution_count": 4,
   "metadata": {
    "scrolled": true
   },
   "outputs": [],
   "source": [
    "state_median_price_reduction_pct_df = pd.DataFrame(pd.read_csv('https://query.data.world/s/giahtzt7kepnf7hvmpplmwfidknhgi'))\n",
    "state_median_price_reduction_pct_df = format_func(state_median_price_reduction_pct_df)\n",
    "state_median_price_reduction_pct_df\n",
    "state_median_price_reduction_pct_df.to_csv('state_median_price_reduction_pct.csv', header=True)"
   ]
  },
  {
   "cell_type": "code",
   "execution_count": 5,
   "metadata": {},
   "outputs": [
    {
     "ename": "NameError",
     "evalue": "name 'st_med_list_price_line' is not defined",
     "output_type": "error",
     "traceback": [
      "\u001b[1;31m---------------------------------------------------------------------------\u001b[0m",
      "\u001b[1;31mNameError\u001b[0m                                 Traceback (most recent call last)",
      "\u001b[1;32m<ipython-input-5-c379cd4988fe>\u001b[0m in \u001b[0;36m<module>\u001b[1;34m\u001b[0m\n\u001b[1;32m----> 1\u001b[1;33m \u001b[0msecond_elect\u001b[0m \u001b[1;33m=\u001b[0m \u001b[0mst_med_list_price_line\u001b[0m\u001b[1;33m.\u001b[0m\u001b[0mloc\u001b[0m\u001b[1;33m[\u001b[0m\u001b[1;33m[\u001b[0m\u001b[1;34m'2016-11'\u001b[0m\u001b[1;33m,\u001b[0m\u001b[1;34m'2016-12'\u001b[0m\u001b[1;33m,\u001b[0m\u001b[1;34m'2017-01'\u001b[0m\u001b[1;33m,\u001b[0m\u001b[1;34m'2017-02'\u001b[0m\u001b[1;33m,\u001b[0m\u001b[1;34m'2017-03'\u001b[0m\u001b[1;33m,\u001b[0m\u001b[1;34m'2017-04'\u001b[0m\u001b[1;33m,\u001b[0m\u001b[1;34m'2017-05'\u001b[0m\u001b[1;33m,\u001b[0m\u001b[1;34m'2017-06'\u001b[0m\u001b[1;33m,\u001b[0m\u001b[1;34m'2017-07'\u001b[0m\u001b[1;33m,\u001b[0m\u001b[1;34m'2017-08'\u001b[0m\u001b[1;33m,\u001b[0m\u001b[1;34m'2017-09'\u001b[0m\u001b[1;33m]\u001b[0m\u001b[1;33m]\u001b[0m\u001b[1;33m\u001b[0m\u001b[1;33m\u001b[0m\u001b[0m\n\u001b[0m\u001b[0;32m      2\u001b[0m \u001b[0msecond_elect\u001b[0m \u001b[1;33m=\u001b[0m \u001b[0msecond_elect\u001b[0m\u001b[1;33m.\u001b[0m\u001b[0mreset_index\u001b[0m\u001b[1;33m(\u001b[0m\u001b[0mdrop\u001b[0m\u001b[1;33m=\u001b[0m\u001b[1;32mTrue\u001b[0m\u001b[1;33m)\u001b[0m\u001b[1;33m\u001b[0m\u001b[1;33m\u001b[0m\u001b[0m\n\u001b[0;32m      3\u001b[0m \u001b[0msecond_elect\u001b[0m \u001b[1;33m=\u001b[0m \u001b[0mpd\u001b[0m\u001b[1;33m.\u001b[0m\u001b[0mDataFrame\u001b[0m\u001b[1;33m(\u001b[0m\u001b[0msecond_elect\u001b[0m\u001b[1;33m)\u001b[0m\u001b[1;33m\u001b[0m\u001b[1;33m\u001b[0m\u001b[0m\n\u001b[0;32m      4\u001b[0m \u001b[0msecond_elect\u001b[0m\u001b[1;33m\u001b[0m\u001b[1;33m\u001b[0m\u001b[0m\n\u001b[0;32m      5\u001b[0m \u001b[0msecond_elect\u001b[0m\u001b[1;33m.\u001b[0m\u001b[0mto_csv\u001b[0m\u001b[1;33m(\u001b[0m\u001b[1;34m'second_elect.csv'\u001b[0m\u001b[1;33m,\u001b[0m \u001b[0mheader\u001b[0m\u001b[1;33m=\u001b[0m\u001b[1;32mTrue\u001b[0m\u001b[1;33m)\u001b[0m\u001b[1;33m\u001b[0m\u001b[1;33m\u001b[0m\u001b[0m\n",
      "\u001b[1;31mNameError\u001b[0m: name 'st_med_list_price_line' is not defined"
     ]
    }
   ],
   "source": [
    "#second_elect = st_med_list_price_line.loc[['2016-11','2016-12','2017-01','2017-02','2017-03','2017-04','2017-05','2017-06','2017-07','2017-08','2017-09']]\n",
    "#second_elect = second_elect.reset_index(drop=True)\n",
    "#second_elect = pd.DataFrame(second_elect)\n",
    "#second_elect\n",
    "#second_elect.to_csv('second_elect.csv', header=True)"
   ]
  },
  {
   "cell_type": "code",
   "execution_count": 6,
   "metadata": {},
   "outputs": [
    {
     "ename": "NameError",
     "evalue": "name 'reduc_change_df' is not defined",
     "output_type": "error",
     "traceback": [
      "\u001b[1;31m---------------------------------------------------------------------------\u001b[0m",
      "\u001b[1;31mNameError\u001b[0m                                 Traceback (most recent call last)",
      "\u001b[1;32m<ipython-input-6-61a6647c4f05>\u001b[0m in \u001b[0;36m<module>\u001b[1;34m\u001b[0m\n\u001b[1;32m----> 1\u001b[1;33m \u001b[0mreduc_change_df\u001b[0m\u001b[1;33m\u001b[0m\u001b[1;33m\u001b[0m\u001b[0m\n\u001b[0m\u001b[0;32m      2\u001b[0m \u001b[0mreduc_change_df\u001b[0m\u001b[1;33m.\u001b[0m\u001b[0mto_csv\u001b[0m\u001b[1;33m(\u001b[0m\u001b[1;34m'reduc_change.csv'\u001b[0m\u001b[1;33m,\u001b[0m \u001b[0mheader\u001b[0m\u001b[1;33m=\u001b[0m\u001b[1;32mTrue\u001b[0m\u001b[1;33m)\u001b[0m\u001b[1;33m\u001b[0m\u001b[1;33m\u001b[0m\u001b[0m\n",
      "\u001b[1;31mNameError\u001b[0m: name 'reduc_change_df' is not defined"
     ]
    }
   ],
   "source": [
    "#reduc_change_df\n",
    "#reduc_change_df.to_csv('reduc_change.csv', header=True)"
   ]
  },
  {
   "cell_type": "code",
   "execution_count": 7,
   "metadata": {},
   "outputs": [],
   "source": [
    "state_decrease_value_pct_df = pd.DataFrame(pd.read_csv('https://query.data.world/s/3bc7jmhfh554mjv4ikivps34ejycfw'))\n",
    "format_func(state_decrease_value_pct_df)\n",
    "state_decrease_value_pct_df.to_csv('state_decrease_value_pct.csv', header=True)"
   ]
  },
  {
   "cell_type": "code",
   "execution_count": 8,
   "metadata": {},
   "outputs": [],
   "source": [
    "state_zhvi_summary_df = pd.DataFrame(pd.read_csv('https://query.data.world/s/2w7itycnobznpfaiwxoa4iq3q6taam'))\n",
    "state_zhvi_summary_df\n",
    "state_zhvi_summary_df.to_csv('state_zhvi_summary.csv', header=True)\n",
    "# NEED TO CLEAN UP THE DATA FOR THIS ONE INDIVIDUALLY"
   ]
  },
  {
   "cell_type": "code",
   "execution_count": 9,
   "metadata": {},
   "outputs": [],
   "source": [
    "state_inventory_measure_ssa_df = pd.DataFrame(pd.read_csv('https://query.data.world/s/pc7wzkbuvdyv7qhlo3bpz6iyx4h2rh'))\n",
    "format_func(state_inventory_measure_ssa_df)\n",
    "state_inventory_measure_ssa_df.to_csv('state_inventory_measure_ssa.csv', header=True)"
   ]
  },
  {
   "cell_type": "code",
   "execution_count": null,
   "metadata": {},
   "outputs": [],
   "source": []
  },
  {
   "cell_type": "code",
   "execution_count": null,
   "metadata": {},
   "outputs": [],
   "source": [
    "## export data to csv\n"
   ]
  }
 ],
 "metadata": {
  "kernelspec": {
   "display_name": "Python [conda env:.conda-PythonData]",
   "language": "python",
   "name": "conda-env-.conda-PythonData-py"
  },
  "language_info": {
   "codemirror_mode": {
    "name": "ipython",
    "version": 3
   },
   "file_extension": ".py",
   "mimetype": "text/x-python",
   "name": "python",
   "nbconvert_exporter": "python",
   "pygments_lexer": "ipython3",
   "version": "3.6.10"
  }
 },
 "nbformat": 4,
 "nbformat_minor": 4
}
